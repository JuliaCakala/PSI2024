{
  "nbformat": 4,
  "nbformat_minor": 0,
  "metadata": {
    "colab": {
      "provenance": [],
      "authorship_tag": "ABX9TyM16BsbOOJC7xZAG2FAgzRF",
      "include_colab_link": true
    },
    "kernelspec": {
      "name": "python3",
      "display_name": "Python 3"
    },
    "language_info": {
      "name": "python"
    }
  },
  "cells": [
    {
      "cell_type": "markdown",
      "metadata": {
        "id": "view-in-github",
        "colab_type": "text"
      },
      "source": [
        "<a href=\"https://colab.research.google.com/github/JuliaCakala/PSI2024/blob/main/Prolog_Zadanie3.ipynb\" target=\"_parent\"><img src=\"https://colab.research.google.com/assets/colab-badge.svg\" alt=\"Open In Colab\"/></a>"
      ]
    },
    {
      "cell_type": "code",
      "execution_count": 1,
      "metadata": {
        "colab": {
          "base_uri": "https://localhost:8080/",
          "height": 106
        },
        "id": "87rWZHhLtaVQ",
        "outputId": "cb3257db-3106-489b-d2ee-b3c35036b320"
      },
      "outputs": [
        {
          "output_type": "error",
          "ename": "SyntaxError",
          "evalue": "invalid syntax (<ipython-input-1-8dca9614e726>, line 1)",
          "traceback": [
            "\u001b[0;36m  File \u001b[0;32m\"<ipython-input-1-8dca9614e726>\"\u001b[0;36m, line \u001b[0;32m1\u001b[0m\n\u001b[0;31m    :-dynamic (produkt/3.)\u001b[0m\n\u001b[0m    ^\u001b[0m\n\u001b[0;31mSyntaxError\u001b[0m\u001b[0;31m:\u001b[0m invalid syntax\n"
          ]
        }
      ],
      "source": [
        ":-dynamic (produkt/3.)\n",
        "%Pozwala na modyfikację faktów w trakcie działania programu\n",
        "% produkt/3 przechowuje dane o produkcie w formacie: produkt(NazwaProduktu, Ilość, Magazyn).\n",
        "\n",
        "\n",
        "produkt(tv, 4, magazyn_a).\n",
        "produkt(pralka, 1, magazyn_a).\n",
        "produkt(tv, 2, magazyn_b).\n",
        "produkt(pralka, 7, magazyn_b).\n",
        "produkt(zelazko, 5, magazyn_b).\n",
        "produkt(miska, 0, magazyn_a).\n",
        "\n",
        "%aby produkt był dostepny jego ilość musi być większa od zera\n",
        "dostepny_produkt(X):- produkt(X, Y,_),\n",
        "                Y > 0.\n",
        "\n",
        "% X to produkt, N jest ilością dodawanego produktu, a Nowailosc to łączna ilosc danego produktu juz po uzupelnieniu stanu (czyli Ilosc + N)\n",
        "uzupelnij_stan(X, N, Nowailosc) :- produkt(X, Ilosc, _),\n",
        "                    Nowailosc is Ilosc + N,\n",
        "                    write(produkt(X, NowaIlosc)).\n",
        "\n",
        "% aby przeniesc produkt musimy sprawdzic czy jest on dostepny, za pomoca funkcji retract usuway stary stan magazynowy przed przeniesieniem, a funkcja assertz umozliwia utworzenie nowego stanu po przeniesienu\n",
        "przenies_produkt(X, NowySektor):- produkt(X, Ilosc, _), dostepny_produkt(X),\n",
        "    retract(produkt(X,Ilosc,_)), assertz(produkt(X,Ilosc, NowySektor)),\n",
        "    write(produkt(X, Ilosc, NowySektor)).\n",
        "\n",
        "%przykładowe zapytania\n",
        "dostepny_produkt(suszarka) odp. false\n",
        "dostepny_produkt(pralka) odp. true\n",
        "przenies_produkt(zelazko, magazyn_a) odp. false\n",
        "przenies_produkt(zelazko, magazyn_a) odp. true, produkt(zelazko, 5, magazyn_a)\n",
        "uzupelnij_stan(zelazko, 3, NowaIlosc ) odp. Nowailosc = 8\n",
        "\n",
        "\n"
      ]
    },
    {
      "cell_type": "code",
      "source": [],
      "metadata": {
        "id": "hgxEFZERuGZB"
      },
      "execution_count": null,
      "outputs": []
    }
  ]
}