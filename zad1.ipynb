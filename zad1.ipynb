{
  "nbformat": 4,
  "nbformat_minor": 0,
  "metadata": {
    "colab": {
      "provenance": []
    },
    "kernelspec": {
      "name": "python3",
      "display_name": "Python 3"
    },
    "language_info": {
      "name": "python"
    }
  },
  "cells": [
    {
      "cell_type": "code",
      "execution_count": null,
      "metadata": {
        "id": "2fD5U2HIgnK5"
      },
      "outputs": [],
      "source": []
    },
    {
      "cell_type": "markdown",
      "source": [
        "hfxx** *kursywa*xxxnf**\n",
        "hkjhjblj,\n",
        "\n",
        "> hello world\n",
        "⚓\n",
        "\n",
        "---\n",
        "\n",
        "\\\n",
        "https://drive.google.com/drive/folders/1YahbCZJdJawQ0AOMsrxalXqFF-GypDD1?hl=pl\n",
        "\n",
        "1.   Element listy\n",
        "2.   Element listy\n",
        "\n",
        "\n",
        "\n"
      ],
      "metadata": {
        "id": "fCQewj8_htjg"
      }
    },
    {
      "cell_type": "code",
      "source": [
        "print('hello world')"
      ],
      "metadata": {
        "colab": {
          "base_uri": "https://localhost:8080/"
        },
        "id": "RHH5eEfpkD0w",
        "outputId": "4f00c98a-3182-46c9-dd44-d27a8e4da1c7"
      },
      "execution_count": null,
      "outputs": [
        {
          "output_type": "stream",
          "name": "stdout",
          "text": [
            "hello world\n"
          ]
        }
      ]
    }
  ]
}