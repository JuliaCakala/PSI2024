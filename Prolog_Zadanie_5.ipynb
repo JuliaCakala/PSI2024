{
  "nbformat": 4,
  "nbformat_minor": 0,
  "metadata": {
    "colab": {
      "provenance": [],
      "authorship_tag": "ABX9TyM9DoeYEmG/oRBTiN3w+TPD",
      "include_colab_link": true
    },
    "kernelspec": {
      "name": "python3",
      "display_name": "Python 3"
    },
    "language_info": {
      "name": "python"
    }
  },
  "cells": [
    {
      "cell_type": "markdown",
      "metadata": {
        "id": "view-in-github",
        "colab_type": "text"
      },
      "source": [
        "<a href=\"https://colab.research.google.com/github/JuliaCakala/PSI2024/blob/main/Prolog_Zadanie_5.ipynb\" target=\"_parent\"><img src=\"https://colab.research.google.com/assets/colab-badge.svg\" alt=\"Open In Colab\"/></a>"
      ]
    },
    {
      "cell_type": "code",
      "source": [
        ":- dynamic ksiazka/3.\n",
        ":- dynamic ocena/3.\n",
        ":- dynamic preferencje/2.\n",
        "\n",
        "ksiazka('Winnetou', may, przygodowa).\n",
        "ksiazka('HarryPotter', rowling, przygodowa).\n",
        "ksiazka('Makbet', sheakspear, poezja).\n",
        "ksiazka('Dallas', king, horror).\n",
        "ocena(uzytkownik1, 'Dallas', 5).\n",
        "ocena(uzytkownik1, 'Makbet', 4).\n",
        "ocena(uzytkownik1, 'HarryPotter', 3).\n",
        "ocena(uzytkownik1, 'Winnetou', 4).\n",
        "ocena(uzytkownik2, 'Winnetou', 5).\n",
        "ocena(uzytkownik2, 'HarryPotter', 5).\n",
        "ocena(uzytkownik2, 'Makbet', 5).\n",
        "ocena(uzytkownik2, 'Dallas', 4).\n",
        "ocena(uzytkownik3, 'Dallas', 1).\n",
        "ocena(uzytkownik3, 'HarryPotter', 5).\n",
        "ocena(uzytkownik3, 'Makbet', 1).\n",
        "ocena(uzytkownik3, 'Winnetou', 4).\n",
        "preferencje(uzytkownik1, horror).\n",
        "preferencje(uzytkownik2, poezja).\n",
        "preferencje(uzytkownik3, przygodowa).\n",
        "\n",
        "% preferencje(Uzytkownik, Gatunek): Sprawdza, czy dla danego użytkownika (Uzytkownik) w bazie danych istnieje zapis preferencji dotyczący gatunku książek (Gatunek).\n",
        "% Jeśli taki fakt istnieje, reguła przechodzi do następnego kroku. Jeśli nie, cała reguła się nie uda (fałsz)\n",
        "% findall/3 zbiera wszystkie książki, które spełniają warunki (książka należy do zadanego gatunku (Gatunek), książka została oceniona przez użytkownika (Uzytkownik), Ocena >= 3), i zapisuje je w zmiennej ListaKsiazek.\n",
        "polecane_ksiazki(Uzytkownik, Gatunek, ListaKsiazek) :-\n",
        "    preferencje(Uzytkownik, Gatunek),\n",
        "    findall(Ksiazka, (ksiazka(Ksiazka, _, Gatunek), ocena(Uzytkownik, Ksiazka, Ocena), Ocena >= 3), ListaKsiazek),\n",
        "    ListaKsiazek \\= [].\n",
        "%Sprawdzamy, czy lista książek (ListaKsiazek) nie jest pusta. Jeśli lista jest pusta, reguła zwróci fałsz, a więc nie będą zwrócone żadne książki.\n",
        "\n",
        "Przykładowe zapytania:\n",
        "?- polecane_ksiazki(uzytkownik1, horror, ListaKsiazek): ListaKsiazek = ['Dallas']\n",
        "?- polecane_ksiazki(uzytkownik2, poezja, ListaKsiazek): ListaKsiazek = ['Makbet']\n",
        "?- polecane_ksiazki(uzytkownik3, przygodowa, ListaKsiazek): ListaKsiazek = ['Winnetou', 'HarryPotter']"
      ],
      "metadata": {
        "id": "9FwzfZUxCk_M"
      },
      "execution_count": null,
      "outputs": []
    }
  ]
}