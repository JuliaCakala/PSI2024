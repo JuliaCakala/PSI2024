{
  "nbformat": 4,
  "nbformat_minor": 0,
  "metadata": {
    "colab": {
      "provenance": [],
      "authorship_tag": "ABX9TyPEeI2upCinuzyHSpyIehzI",
      "include_colab_link": true
    },
    "kernelspec": {
      "name": "python3",
      "display_name": "Python 3"
    },
    "language_info": {
      "name": "python"
    }
  },
  "cells": [
    {
      "cell_type": "markdown",
      "metadata": {
        "id": "view-in-github",
        "colab_type": "text"
      },
      "source": [
        "<a href=\"https://colab.research.google.com/github/JuliaCakala/PSI2024/blob/main/Prolog_Zad_2.ipynb\" target=\"_parent\"><img src=\"https://colab.research.google.com/assets/colab-badge.svg\" alt=\"Open In Colab\"/></a>"
      ]
    },
    {
      "cell_type": "code",
      "source": [
        "lotnisko(warszawa).\n",
        "lotnisko(krakow).\n",
        "lotnisko(gdansk).\n",
        "lotnisko(lublin).\n",
        "lotnisko(praga).\n",
        "lotnisko(poznan).\n",
        "\n",
        "polaczenie(warszawa, krakow, 300).\n",
        "polaczenie(warszawa, gdansk, 400).\n",
        "polaczenie(warszawa, lublin, 100).\n",
        "polaczenie(krakow, gdansk, 950).\n",
        "polaczenie(krakow, lublin, 200).\n",
        "polaczenie(gdansk, lublin, 800).\n",
        "polaczenie(lublin, praga, 60).\n",
        "polaczenie(gdansk, poznan, 200).\n",
        "polaczenie(poznan, lublin, 50).\n",
        "\n",
        "\n",
        "% sprawdzamy czy istnieje bezpośrednie połączenie między lotniskami w obie strony, cena nie gra roli więc używam _\n",
        "polaczenie_bezposrednie(X, Y) :- polaczenie(X, Y, _); polaczenie(Y, X, _).\n",
        "\n",
        "%sprawdzamy koszt podrózy bezposredniej w obie strony, jezeli taka trasa istnieje koszt wynosi C\n",
        "koszt_podrozy_bezposredniej(X, Y, C) :- polaczenie(X, Y, C); polaczenie(Y, X, C).\n",
        "\n",
        "%sprawdzamy koszt podróży niebezpośredniej, np. z X do Z, z Z do Y, cenę końcową stanowi zsumowany koszt wszystkich lotów\n",
        "koszt_podrozy_niebezposredniej(X,Y, C):- polaczenie(X,Z,C1), polaczenie(Z,Y,C2), C is C1+C2.\n",
        "\n",
        "% umozliwia znalezienie kosztu podrozy niezalenie czy na trasie sa przesiadki\n",
        "koszt_podrozy(X,Y,C):- koszt_podrozy_bezposredniej(X, Y, C); koszt_podrozy_niebezposredniej(X,Y, C).\n",
        "\n",
        "% findall zbiera wszystkie możliwe rozwiązania i umieszcza je w liście, następnie za pomocą sort sortujemy według drugiego elementu każdej pary (jest to koszt)\n",
        "% Trasy to lista wejściowa (wszystkie znalezione trasy), a Posortowane to lista wyjściowa, posortowana według kosztów\n",
        "% Operator | oznacza podział listy na pierwszy element ([(Trasa, NajmniejszyKoszt)]) i resztę (_) (po angielsku head and tail)\n",
        "% Z Posortowane wybieramy pierwszą parę (trasa i jej koszt), która reprezentuje najtańszą drogę, ponieważ lista została posortowana rosnąco według kosztu.\n",
        "\n",
        "najkrotsza_droga(X, Y, NajmniejszyKoszt) :-\n",
        "    findall((Trasa, Koszt), droga(X, Y, Trasa, Koszt), Trasy),\n",
        "    sort(2, @=<, Trasy, Posortowane),\n",
        "    Posortowane = [(Trasa, NajmniejszyKoszt)|_],\n",
        "    format('Trasa przez ~w, koszt ~w~n', [Trasa, NajmniejszyKoszt]).\n",
        "\n",
        "%format/2 wypisuje wynik w czytelnej formie.\n",
        "%~w to symbol zastępowany przez wartość zmiennych (Trasa i NajmniejszyKoszt).\n",
        "%~n oznacza nową linię.\n",
        "\n",
        "%jesli istnieje droga bezposrednia:\n",
        "droga(X, Y, [X, Y], Koszt) :-\n",
        "    polaczenie(X, Y, Koszt).\n",
        "\n",
        "%jesli nie ma drogi bezposredniej:\n",
        "droga(X, Y, [X|Poziom1_Trasa], Koszt) :-\n",
        "    polaczenie(X, Poziom1, Koszt1),\n",
        "    droga(Poziom1, Y, Poziom1_Trasa, Koszt2),\n",
        "    Koszt is Koszt1 + Koszt2.\n",
        "\n",
        "\n",
        "%Przykladowe zapytania:\n",
        "?- koszt_podrozy(gdansk, warszawa, C): C=400\n",
        "?- polaczenie_bezposrednie(gdansk, praga): false\n",
        "?- najkrotsza_droga(gdansk, praga, NajmniejszyKoszt): odp: Trasa przez [gdansk,poznan,lublin,praga], koszt 310 NajmniejszyKoszt = 310"
      ],
      "metadata": {
        "id": "BzwQjO7cIL5w"
      },
      "execution_count": null,
      "outputs": []
    }
  ]
}