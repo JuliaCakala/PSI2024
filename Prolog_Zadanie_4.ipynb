{
  "nbformat": 4,
  "nbformat_minor": 0,
  "metadata": {
    "colab": {
      "provenance": [],
      "authorship_tag": "ABX9TyPJFOPVDcjukhC0QR2CHsFM",
      "include_colab_link": true
    },
    "kernelspec": {
      "name": "python3",
      "display_name": "Python 3"
    },
    "language_info": {
      "name": "python"
    }
  },
  "cells": [
    {
      "cell_type": "markdown",
      "metadata": {
        "id": "view-in-github",
        "colab_type": "text"
      },
      "source": [
        "<a href=\"https://colab.research.google.com/github/JuliaCakala/PSI2024/blob/main/Prolog_Zadanie_4.ipynb\" target=\"_parent\"><img src=\"https://colab.research.google.com/assets/colab-badge.svg\" alt=\"Open In Colab\"/></a>"
      ]
    },
    {
      "cell_type": "code",
      "execution_count": null,
      "metadata": {
        "id": "zA_PFglP_xy5"
      },
      "outputs": [],
      "source": [
        "% Definicje miast\n",
        "miasto(ryki).\n",
        "miasto(kloczew).\n",
        "miasto(wylezin).\n",
        "miasto(zadybie).\n",
        "miasto(zelechow).\n",
        "miasto(jagodne).\n",
        "\n",
        "% Definicje dróg\n",
        "droga(ryki, kloczew, 1).\n",
        "droga(kloczew, wylezin, 4).\n",
        "droga(kloczew, zadybie, 3).\n",
        "droga(kloczew, zelechow, 6).\n",
        "droga(zadybie, zelechow, 2).\n",
        "droga(jagodne, kloczew, 10).\n",
        "\n",
        "% Reguła dla sprawdzania drogi między miastami (bezpośrednia lub w obu kierunkach)\n",
        "droga(X, Y) :- droga(X, Y, _).\n",
        "droga(X, Y) :- droga(Y, X, _).\n",
        "\n",
        "% Czas przejazdu między dwoma miastami (bezpośrednio lub pośrednio z sumowaniem kosztu)\n",
        "czas_przejazdu(X, Y, T) :- droga(X, Y, T).\n",
        "czas_przejazdu(X, Y, T) :-\n",
        "    droga(X, Z, T1),\n",
        "    X \\= Z,\n",
        "    czas_przejazdu(Z, Y, T2),\n",
        "    Y \\= Z,\n",
        "    T is T1 + T2.\n",
        "\n",
        "% Znalezienie najkrótszej trasy między dwoma miastami\n",
        "% setof: zbiera wszystkie możliwe wartości T (czasy przejazdu) dla tras między punktami X i Y, gdzie czas_przejazdu(X, Y, T) jest faktem lub regułą w bazie wiedzy; wynik jest uporządkowany w rosnącym porządku (domyślne zachowanie setof) i unika duplikatów.\n",
        "% min_list: Znajduje najmniejszy element na liście Czasy\n",
        "najkrotsza_trasa(X, Y) :-\n",
        "    setof(T, czas_przejazdu(X, Y, T), Czasy),\n",
        "    min_list(Czasy, Minimalny),\n",
        "    format('Najkrótsza droga między ~w a ~w trwa ~w h.', [X, Y, Minimalny]).\n",
        "\n",
        "Przykładowe zapytania:\n",
        "?- czas_przejazdu(ryki, kloczew, T): T = 1\n",
        "?- czas_przejazdu(jagodne, zadybie, T): T = 13\n",
        "?- najkrotsza_trasa(jagodne, wylezin): Najkrótsza droga między jagodne a wylezin trwa 14 h.\n",
        "?- najkrotsza_trasa(ryki, zelechow): Najkrótsza droga między ryki a zelechow trwa 6 h.\n",
        "\n",
        "\n"
      ]
    }
  ]
}