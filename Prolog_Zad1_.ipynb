{
  "nbformat": 4,
  "nbformat_minor": 0,
  "metadata": {
    "colab": {
      "provenance": [],
      "authorship_tag": "ABX9TyPaPPQQiRTJr7yljlrfvZH1",
      "include_colab_link": true
    },
    "kernelspec": {
      "name": "python3",
      "display_name": "Python 3"
    },
    "language_info": {
      "name": "python"
    }
  },
  "cells": [
    {
      "cell_type": "markdown",
      "metadata": {
        "id": "view-in-github",
        "colab_type": "text"
      },
      "source": [
        "<a href=\"https://colab.research.google.com/github/JuliaCakala/PSI2024/blob/main/Prolog_Zad1_.ipynb\" target=\"_parent\"><img src=\"https://colab.research.google.com/assets/colab-badge.svg\" alt=\"Open In Colab\"/></a>"
      ]
    },
    {
      "cell_type": "code",
      "source": [
        "ojciec(marek, julek).\n",
        "ojciec(marek, asia).\n",
        "ojciec(piotr, marek).\n",
        "ojciec(piotr, zosia).\n",
        "matka(hanna, julek).\n",
        "matka(hanna, asia).\n",
        "matka(zosia, wojtek).\n",
        "matka(stasia, marek).\n",
        "matka(stasia, zosia).\n",
        "mezczyzna(piotr).\n",
        "mezczyzna(marek).\n",
        "mezczyzna(wojtek).\n",
        "mezczyzna(julek).\n",
        "kobieta(stasia).\n",
        "kobieta(zosia).\n",
        "kobieta(hanna).\n",
        "kobieta(asia).\n",
        "\n",
        "%rodzicem może być matka lub ojciec, definiujemy tą regułę dla pózniejszego ułatwienia zdefiniowowania reguł takich jak dziadek czy rodzeństwo\n",
        "rodzic(X,Y):- matka(X,Y);\n",
        "    ojciec(X,Y).\n",
        "\n",
        "%słowo dziadek w prologu nie ma płci, odnosi się także do babci, aby X był dziadkiem Y, X musi być rodzicem Z, które jest rodzicem Y\n",
        "dziadek(X,Y):- rodzic(X,Z),\n",
        "    rodzic(Z,Y).\n",
        "\n",
        "%przodkiem może być zarówno rodzic jak i dziadek\n",
        "przodek(X, Y) :- ojciec(X, Y);\n",
        "    matka(X, Y);\n",
        "    dziadek(X,Y).\n",
        "\n",
        "% aby X był bratem Y, X i Y muszą mieć tego samego rodzica, analogicznie sytuacja ma się z siostra\n",
        "brat(X, Y) :- mezczyzna(X),\n",
        "    rodzic(Z,X),\n",
        "    rodzic(Z,Y).\n",
        "\n",
        "siostra(X,Y):- kobieta(X),\n",
        "          rodzic(Z,X),\n",
        "          rodzic(Z,Y).\n",
        "\n",
        "% w przeciwienstwie do regul siostra i brat relacja zachodzi tutaj w obie strony\n",
        "rodzenstwo(X,Y):-  siostra(X,Y);\n",
        "                  brat(X,Y).\n",
        "\n",
        "% X jest kuzynem Y, jeśli przynajmniej jeden rodzic X jest rodzeństwem do przynajmniej jednego rodzica Y, ponadto X i Y nie mogą być rodzeństwem (czyli nie mogą mieć tych samych rodziców)\n",
        "kuzyn(X,Y):- rodzic(A,X),\n",
        "              rodzic(B,Y),\n",
        "              rodzenstwo(A,B),\n",
        "\t\t\tX \\= Y,\n",
        "    \t\t\\+ rodzenstwo(X, Y).\n",
        "\n",
        "\n",
        "Przykładowe zapytania i wyniki:\n",
        "?- przodek(X, asia): zwraca po kolei wszystkich przodków asi:\n",
        "X = marek\n",
        "X = hanna\n",
        "X = stasia\n",
        "X = piotr\n",
        "?- przodek(stasia, asia): true\n",
        "?- przodek(stasia, asia): false\n",
        "?- brat(julek, asia): true\n",
        "?- brat(wojtek, julek): false\n",
        "?- kuzyn(wojtek, julek): true\n",
        "?- kuzyn(julek, asia): false\n"
      ],
      "metadata": {
        "id": "u77bozPiqHYH"
      },
      "execution_count": null,
      "outputs": []
    }
  ]
}